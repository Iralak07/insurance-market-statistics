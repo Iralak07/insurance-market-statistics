{
 "cells": [
  {
   "cell_type": "code",
   "execution_count": 31,
   "metadata": {},
   "outputs": [],
   "source": [
    "import pandas as pd\n",
    "import numpy as np\n",
    "import openpyxl\n",
    "from pymongo import MongoClient\n",
    "from pymongo.mongo_client import MongoClient\n",
    "from pymongo.server_api import ServerApi\n"
   ]
  },
  {
   "cell_type": "code",
   "execution_count": 32,
   "metadata": {},
   "outputs": [],
   "source": [
    "# Open the xlsx file and convert to a dataframe\n",
    "# Load spreadsheet\n",
    "xl = pd.ExcelFile('MES.xlsx')\n",
    "# Load a sheet into a DataFrame by its name\n",
    "dfs = {sheet_name: xl.parse(sheet_name) for sheet_name in xl.sheet_names}"
   ]
  },
  {
   "cell_type": "code",
   "execution_count": 33,
   "metadata": {},
   "outputs": [],
   "source": [
    "# Separate every element of the dictionary into a different dataframe\n",
    "principales_cuentas = dfs['1']\n",
    "balance_general = dfs['2']\n",
    "estado_resultados = dfs['3']\n",
    "ingresos_egresos = dfs['4']\n",
    "detalle_ingresos = dfs['5']\n",
    "detalle_egresos = dfs['6']\n",
    "indicadores = dfs['7']"
   ]
  },
  {
   "cell_type": "code",
   "execution_count": 34,
   "metadata": {},
   "outputs": [],
   "source": [
    "principales_cuentas_columns = principales_cuentas.columns.tolist()\n",
    "balance_general_columns = balance_general.columns.tolist()\n",
    "estado_resultados_columns = estado_resultados.columns.tolist()\n",
    "ingresos_egresos_columns = ingresos_egresos.columns.tolist()\n",
    "detalle_ingresos_columns = detalle_ingresos.columns.tolist()\n",
    "detalle_egresos_columns = detalle_egresos.columns.tolist()\n",
    "indicadores_columns = indicadores.columns.tolist()"
   ]
  },
  {
   "cell_type": "code",
   "execution_count": 35,
   "metadata": {},
   "outputs": [
    {
     "name": "stdout",
     "output_type": "stream",
     "text": [
      "['El Comercio Paraguayo S.A. De Seguros', 'La Rural S.A. De Seguros', 'La Paraguaya S.A. De Seguros', 'Seguros Generales S. A. (Segesa)', 'Rumbos S.A. De Seguros', 'La Consolidada S.A. De Seguros', 'El Productor S.A. De Seguros Y Reaseguros', 'Atalaya S.A De Seguros Generales', 'La Independencia De Seguros Sociedad Anonima', 'Patria S.A. De Seguros Y Reaseguros', 'Alianza Garantía Seguros Y Reaseguros S.A.', 'Aseguradora Paraguaya S.A', 'Fénix S.A. De Seguros Y Reaseguros', 'Central S.A. De Seguros', 'Seguros Chaco S.A. De Seguros Y Reaseguros', 'El Sol Del Paraguay Compañía De Seguros Y Reaseguros', 'Intercontinental De Seguros Y Reaseguros S.A.', 'Seguridad S.A. Compañía De Seguros', 'Aseguradora Yacyreta S.A. De Seguros Y Reaseguros', 'La Agrícola S.A. De Seguros Y Reaseguros', 'Ueno Seguros S.A.', 'Cenit De Seguros S.A.', 'La Meridional Paraguaya S.A. De Seguros', 'Aseguradora Del Este S.A De Seguros Y Reaseguros', 'Regional S.A. De Seguros Y Reaseguros', 'Mapfre Paraguay Compañía De Seguros S.A.', 'Aseguradora Tajy Propiedad Cooperativa S.A. De Seguros', 'Panal Compañía De Seguros Generales S.A.', 'Sancor Seguros Del Paraguay S.A.', 'Royal Seguros S.A. Compañía De Seguros', 'Nobleza Seguros S.A. Compañia De Seguros', 'Itau Seguros Paraguay S.A.', 'Familiar Seguros S.A.', 'Atlas S.A. De Seguros', 'Total Mercado']\n"
     ]
    }
   ],
   "source": [
    "rows = [\"Total de Activos\", \"Total de Pasivos\", \"Capital Social\", \"Resultado del Ejercicio\", \"Total Patrimonio Neto\", \"Primas Directas\", \"Primas Reaseguros Aceptados - Local\", \n",
    "        \"Siniestros Seguros Directos\", \"Resultado Técnico Bruto [7]=[3]-[6]\", \"Gastos De Producción\", \"Gastos De Cesión Reaseguros - Local\", \"Gastos De Cesión Reaseguros - Exterior\", \n",
    "        \"Gastos Técnicos De Explotación\", \"Constitución De Previsiones\", \"Resultado Técnico Neto [11]=[7]+[10]\", \"Resultado Total del Ejercicio\", \"Resultado del Ejercicio\"]\n",
    "columns = ['El Comercio Paraguayo S.A. De Seguros', 'La Rural S.A. De Seguros', 'La Paraguaya S.A. De Seguros', 'Seguros Generales S. A. (Segesa)', 'Rumbos S.A. De Seguros', \n",
    "           'La Consolidada S.A. De Seguros', 'El Productor S.A. De Seguros Y Reaseguros', 'Atalaya S.A De Seguros Generales', 'La Independencia De Seguros Sociedad Anonima', \n",
    "           'Patria S.A. De Seguros Y Reaseguros', 'Alianza Garantía Seguros Y Reaseguros S.A.', 'Aseguradora Paraguaya S.A', 'Fénix S.A. De Seguros Y Reaseguros', \n",
    "           'Central S.A. De Seguros', 'Seguros Chaco S.A. De Seguros Y Reaseguros', 'El Sol Del Paraguay Compañía De Seguros Y Reaseguros', 'Intercontinental De Seguros Y Reaseguros S.A.', \n",
    "           'Seguridad S.A. Compañía De Seguros', 'Aseguradora Yacyreta S.A. De Seguros Y Reaseguros', 'La Agrícola S.A. De Seguros Y Reaseguros', 'Ueno Seguros S.A.', 'Cenit De Seguros S.A.', \n",
    "           'La Meridional Paraguaya S.A. De Seguros', 'Aseguradora Del Este S.A De Seguros Y Reaseguros', 'Regional S.A. De Seguros Y Reaseguros', 'Mapfre Paraguay Compañía De Seguros S.A.', \n",
    "           'Aseguradora Tajy Propiedad Cooperativa S.A. De Seguros', 'Panal Compañía De Seguros Generales S.A.', 'Sancor Seguros Del Paraguay S.A.', 'Royal Seguros S.A. Compañía De Seguros', \n",
    "           'Nobleza Seguros S.A. Compañia De Seguros', 'Itau Seguros Paraguay S.A.', 'Familiar Seguros S.A.', 'Atlas S.A. De Seguros', 'Total Mercado']\n",
    "dataframes = [principales_cuentas, balance_general, estado_resultados, ingresos_egresos, detalle_ingresos, detalle_egresos, indicadores]\n",
    "dataframes_names = [\"principales_cuentas\", \"balance_general\", \"estado_resultados\", \"ingresos_egresos\", \"detalle_ingresos\", \"detalle_egresos\", \"indicadores\"]\n",
    "print(columns)"
   ]
  },
  {
   "cell_type": "code",
   "execution_count": 36,
   "metadata": {},
   "outputs": [
    {
     "name": "stdout",
     "output_type": "stream",
     "text": [
      "All column lists are equal: True\n"
     ]
    }
   ],
   "source": [
    "all_equal = (balance_general_columns == estado_resultados_columns == \n",
    "             ingresos_egresos_columns == detalle_ingresos_columns == detalle_egresos_columns == indicadores_columns)\n",
    "\n",
    "print(\"All column lists are equal:\" , all_equal)"
   ]
  },
  {
   "cell_type": "code",
   "execution_count": 37,
   "metadata": {},
   "outputs": [],
   "source": [
    "def get_value_from_df(df, row_value, column_name):\n",
    "    try:\n",
    "        # Find the row where 'Nombre de la Cuenta' is equal to row_value\n",
    "        row = df[df['Nombre de la Cuenta'] == row_value]\n",
    "        \n",
    "        # Return the value at the intersection of the row and column_name\n",
    "        return row[column_name].values[0]\n",
    "    except (IndexError, KeyError):\n",
    "        return \"Error: Invalid row or column names. Please verify and try again.\""
   ]
  },
  {
   "cell_type": "code",
   "execution_count": 38,
   "metadata": {},
   "outputs": [],
   "source": [
    "def create_new_df(dfs, rows, columns):\n",
    "    # Create a new dataframe with the first column as \"Nombre de la Cuenta\"\n",
    "    new_df = pd.DataFrame(rows, columns=[\"Nombre de la Cuenta\"])\n",
    "\n",
    "    # Add new columns to the dataframe\n",
    "    for column in columns:\n",
    "        new_df[column] = None\n",
    "\n",
    "    # Iterate over each dataframe\n",
    "    for df in dfs:\n",
    "        # Iterate over each row\n",
    "        for i, row in enumerate(rows):\n",
    "            # Iterate over each column\n",
    "            for column in columns:\n",
    "                # Get the value at the intersection of the row and column\n",
    "                value = get_value_from_df(df, row, column)\n",
    "\n",
    "                # If the value is not an error message, assign it to the new dataframe\n",
    "                if not isinstance(value, str):\n",
    "                    new_df.at[i, column] = value\n",
    "\n",
    "    # Return the new dataframe\n",
    "    return new_df"
   ]
  },
  {
   "cell_type": "code",
   "execution_count": 63,
   "metadata": {},
   "outputs": [],
   "source": [
    "def create_new_dfs(dfs,insurer, rows, columns):\n",
    "    # Create a new dataframe with the first column as \"Nombre de la Cuenta\"\n",
    "    new_df = pd.DataFrame(rows, columns=[\"Nombre de la Cuenta\"])\n",
    "\n",
    "    # Add new columns to the dataframe\n",
    "\n",
    "    new_df[insurer] = None\n",
    "\n",
    "    # Iterate over each dataframe\n",
    "    for df in dfs:\n",
    "        # Iterate over each row\n",
    "        for i, row in enumerate(rows):\n",
    "            # Iterate over each column\n",
    "            for column in columns:\n",
    "                # Get the value at the intersection of the row and column\n",
    "                value = get_value_from_df(df, row, column)\n",
    "\n",
    "                # If the value is not an error message, assign it to the new dataframe\n",
    "                if not isinstance(value, str):\n",
    "                    new_df.at[i, insurer] = value\n",
    "\n",
    "    # Return the new dataframe\n",
    "    return new_df"
   ]
  },
  {
   "cell_type": "code",
   "execution_count": 68,
   "metadata": {},
   "outputs": [],
   "source": [
    "def create_dict_from_df(df):\n",
    "    # Initialize an empty dictionary\n",
    "    new_dict = {}\n",
    "\n",
    "    # Iterate over each row in the dataframe\n",
    "    for _, row in df.iterrows():\n",
    "        # Use the 'Nombre de la Cuenta' value as the key and the 'El Comercio Paraguayo S.A. De Seguros' value as the value\n",
    "        new_dict[row['Nombre de la Cuenta']] = row['El Comercio Paraguayo S.A. De Seguros']\n",
    "\n",
    "    # Return the new dictionary\n",
    "    return new_dict"
   ]
  },
  {
   "cell_type": "code",
   "execution_count": 74,
   "metadata": {},
   "outputs": [],
   "source": [
    "def create_dict_from_df2(df):\n",
    "    # Initialize an empty dictionary\n",
    "    new_dict = {}\n",
    "\n",
    "    # Get the second key from the old dictionary\n",
    "    second_key = list(df.columns)[1]\n",
    "\n",
    "    # Set the first key-value pair\n",
    "    new_dict[\"Insurer\"] = second_key\n",
    "\n",
    "    # Iterate over each row in the dataframe\n",
    "    for _, row in df.iterrows():\n",
    "        # Use the 'Nombre de la Cuenta' value as the key and the 'El Comercio Paraguayo S.A. De Seguros' value as the value\n",
    "        new_dict[row['Nombre de la Cuenta']] = row[second_key]\n",
    "\n",
    "    # Return the new dictionary\n",
    "    return new_dict"
   ]
  },
  {
   "cell_type": "code",
   "execution_count": 75,
   "metadata": {},
   "outputs": [],
   "source": [
    "container = create_new_dfs(dataframes,'El Comercio Paraguayo S.A. De Seguros', rows, columns)"
   ]
  },
  {
   "cell_type": "code",
   "execution_count": null,
   "metadata": {},
   "outputs": [],
   "source": [
    "print(container.keys()) \n",
    "print(container)"
   ]
  },
  {
   "cell_type": "code",
   "execution_count": 81,
   "metadata": {},
   "outputs": [
    {
     "name": "stdout",
     "output_type": "stream",
     "text": [
      "<class 'dict'>\n"
     ]
    }
   ],
   "source": [
    "new_dict = create_dict_from_df2(container)\n",
    "# print(new_dict.keys())\n",
    "print(type(new_dict))"
   ]
  },
  {
   "cell_type": "code",
   "execution_count": 92,
   "metadata": {},
   "outputs": [],
   "source": [
    "def insert_data(data_dict, collection_name):\n",
    "    uri = \"MONGODB_URI\"\n",
    "    # Create a new client and connect to the server\n",
    "    client = MongoClient(uri, server_api=ServerApi('1'))    \n",
    "\n",
    "    # Access the 'insurance_market_analisis' database\n",
    "    db = client['insurance_market_statistics']\n",
    "\n",
    "    # Convert numpy.int64 to int\n",
    "    for key, value in data_dict.items():\n",
    "        if isinstance(value, np.int64):\n",
    "            data_dict[key] = int(value)\n",
    "\n",
    "    # Access the specified collection\n",
    "    collection = db[collection_name]\n",
    "\n",
    "    # Insert the data\n",
    "    collection.insert_one(data_dict)"
   ]
  },
  {
   "cell_type": "code",
   "execution_count": 93,
   "metadata": {},
   "outputs": [
    {
     "name": "stdout",
     "output_type": "stream",
     "text": [
      "{'Insurer': 'El Comercio Paraguayo S.A. De Seguros', 'Total de Activos': 5907591487366, 'Total de Pasivos': 3458736792972, 'Capital Social': 1444211080763, 'Resultado del Ejercicio': 244190177799, 'Total Patrimonio Neto': 2448854694394, 'Primas Directas': 2218164421033.0, 'Primas Reaseguros Aceptados - Local': 15565099667, 'Siniestros Seguros Directos': 778719598639, 'Resultado Técnico Bruto [7]=[3]-[6]': 963020974727, 'Gastos De Producción': 431669724235, 'Gastos De Cesión Reaseguros - Local': 258969296, 'Gastos De Cesión Reaseguros - Exterior': 49104781164, 'Gastos Técnicos De Explotación': 546964481753, 'Constitución De Previsiones': 51882958558, 'Resultado Técnico Neto [11]=[7]+[10]': 125331048705, 'Resultado Total del Ejercicio': 244190177799, '_id': ObjectId('65e768b1da652931e0e910f5')}\n",
      "{'Insurer': 'La Rural S.A. De Seguros', 'Total de Activos': 5907591487366, 'Total de Pasivos': 3458736792972, 'Capital Social': 1444211080763, 'Resultado del Ejercicio': 244190177799, 'Total Patrimonio Neto': 2448854694394, 'Primas Directas': 2218164421033.0, 'Primas Reaseguros Aceptados - Local': 15565099667, 'Siniestros Seguros Directos': 778719598639, 'Resultado Técnico Bruto [7]=[3]-[6]': 963020974727, 'Gastos De Producción': 431669724235, 'Gastos De Cesión Reaseguros - Local': 258969296, 'Gastos De Cesión Reaseguros - Exterior': 49104781164, 'Gastos Técnicos De Explotación': 546964481753, 'Constitución De Previsiones': 51882958558, 'Resultado Técnico Neto [11]=[7]+[10]': 125331048705, 'Resultado Total del Ejercicio': 244190177799, '_id': ObjectId('65e768b3da652931e0e910f7')}\n",
      "{'Insurer': 'La Paraguaya S.A. De Seguros', 'Total de Activos': 5907591487366, 'Total de Pasivos': 3458736792972, 'Capital Social': 1444211080763, 'Resultado del Ejercicio': 244190177799, 'Total Patrimonio Neto': 2448854694394, 'Primas Directas': 2218164421033.0, 'Primas Reaseguros Aceptados - Local': 15565099667, 'Siniestros Seguros Directos': 778719598639, 'Resultado Técnico Bruto [7]=[3]-[6]': 963020974727, 'Gastos De Producción': 431669724235, 'Gastos De Cesión Reaseguros - Local': 258969296, 'Gastos De Cesión Reaseguros - Exterior': 49104781164, 'Gastos Técnicos De Explotación': 546964481753, 'Constitución De Previsiones': 51882958558, 'Resultado Técnico Neto [11]=[7]+[10]': 125331048705, 'Resultado Total del Ejercicio': 244190177799, '_id': ObjectId('65e768b5da652931e0e910f9')}\n",
      "{'Insurer': 'Seguros Generales S. A. (Segesa)', 'Total de Activos': 5907591487366, 'Total de Pasivos': 3458736792972, 'Capital Social': 1444211080763, 'Resultado del Ejercicio': 244190177799, 'Total Patrimonio Neto': 2448854694394, 'Primas Directas': 2218164421033.0, 'Primas Reaseguros Aceptados - Local': 15565099667, 'Siniestros Seguros Directos': 778719598639, 'Resultado Técnico Bruto [7]=[3]-[6]': 963020974727, 'Gastos De Producción': 431669724235, 'Gastos De Cesión Reaseguros - Local': 258969296, 'Gastos De Cesión Reaseguros - Exterior': 49104781164, 'Gastos Técnicos De Explotación': 546964481753, 'Constitución De Previsiones': 51882958558, 'Resultado Técnico Neto [11]=[7]+[10]': 125331048705, 'Resultado Total del Ejercicio': 244190177799, '_id': ObjectId('65e768b7da652931e0e910fb')}\n",
      "{'Insurer': 'Rumbos S.A. De Seguros', 'Total de Activos': 5907591487366, 'Total de Pasivos': 3458736792972, 'Capital Social': 1444211080763, 'Resultado del Ejercicio': 244190177799, 'Total Patrimonio Neto': 2448854694394, 'Primas Directas': 2218164421033.0, 'Primas Reaseguros Aceptados - Local': 15565099667, 'Siniestros Seguros Directos': 778719598639, 'Resultado Técnico Bruto [7]=[3]-[6]': 963020974727, 'Gastos De Producción': 431669724235, 'Gastos De Cesión Reaseguros - Local': 258969296, 'Gastos De Cesión Reaseguros - Exterior': 49104781164, 'Gastos Técnicos De Explotación': 546964481753, 'Constitución De Previsiones': 51882958558, 'Resultado Técnico Neto [11]=[7]+[10]': 125331048705, 'Resultado Total del Ejercicio': 244190177799, '_id': ObjectId('65e768b9da652931e0e910fd')}\n",
      "{'Insurer': 'La Consolidada S.A. De Seguros', 'Total de Activos': 5907591487366, 'Total de Pasivos': 3458736792972, 'Capital Social': 1444211080763, 'Resultado del Ejercicio': 244190177799, 'Total Patrimonio Neto': 2448854694394, 'Primas Directas': 2218164421033.0, 'Primas Reaseguros Aceptados - Local': 15565099667, 'Siniestros Seguros Directos': 778719598639, 'Resultado Técnico Bruto [7]=[3]-[6]': 963020974727, 'Gastos De Producción': 431669724235, 'Gastos De Cesión Reaseguros - Local': 258969296, 'Gastos De Cesión Reaseguros - Exterior': 49104781164, 'Gastos Técnicos De Explotación': 546964481753, 'Constitución De Previsiones': 51882958558, 'Resultado Técnico Neto [11]=[7]+[10]': 125331048705, 'Resultado Total del Ejercicio': 244190177799, '_id': ObjectId('65e768bbda652931e0e910ff')}\n",
      "{'Insurer': 'El Productor S.A. De Seguros Y Reaseguros', 'Total de Activos': 5907591487366, 'Total de Pasivos': 3458736792972, 'Capital Social': 1444211080763, 'Resultado del Ejercicio': 244190177799, 'Total Patrimonio Neto': 2448854694394, 'Primas Directas': 2218164421033.0, 'Primas Reaseguros Aceptados - Local': 15565099667, 'Siniestros Seguros Directos': 778719598639, 'Resultado Técnico Bruto [7]=[3]-[6]': 963020974727, 'Gastos De Producción': 431669724235, 'Gastos De Cesión Reaseguros - Local': 258969296, 'Gastos De Cesión Reaseguros - Exterior': 49104781164, 'Gastos Técnicos De Explotación': 546964481753, 'Constitución De Previsiones': 51882958558, 'Resultado Técnico Neto [11]=[7]+[10]': 125331048705, 'Resultado Total del Ejercicio': 244190177799, '_id': ObjectId('65e768bdda652931e0e91101')}\n",
      "{'Insurer': 'Atalaya S.A De Seguros Generales', 'Total de Activos': 5907591487366, 'Total de Pasivos': 3458736792972, 'Capital Social': 1444211080763, 'Resultado del Ejercicio': 244190177799, 'Total Patrimonio Neto': 2448854694394, 'Primas Directas': 2218164421033.0, 'Primas Reaseguros Aceptados - Local': 15565099667, 'Siniestros Seguros Directos': 778719598639, 'Resultado Técnico Bruto [7]=[3]-[6]': 963020974727, 'Gastos De Producción': 431669724235, 'Gastos De Cesión Reaseguros - Local': 258969296, 'Gastos De Cesión Reaseguros - Exterior': 49104781164, 'Gastos Técnicos De Explotación': 546964481753, 'Constitución De Previsiones': 51882958558, 'Resultado Técnico Neto [11]=[7]+[10]': 125331048705, 'Resultado Total del Ejercicio': 244190177799, '_id': ObjectId('65e768bfda652931e0e91103')}\n",
      "{'Insurer': 'La Independencia De Seguros Sociedad Anonima', 'Total de Activos': 5907591487366, 'Total de Pasivos': 3458736792972, 'Capital Social': 1444211080763, 'Resultado del Ejercicio': 244190177799, 'Total Patrimonio Neto': 2448854694394, 'Primas Directas': 2218164421033.0, 'Primas Reaseguros Aceptados - Local': 15565099667, 'Siniestros Seguros Directos': 778719598639, 'Resultado Técnico Bruto [7]=[3]-[6]': 963020974727, 'Gastos De Producción': 431669724235, 'Gastos De Cesión Reaseguros - Local': 258969296, 'Gastos De Cesión Reaseguros - Exterior': 49104781164, 'Gastos Técnicos De Explotación': 546964481753, 'Constitución De Previsiones': 51882958558, 'Resultado Técnico Neto [11]=[7]+[10]': 125331048705, 'Resultado Total del Ejercicio': 244190177799, '_id': ObjectId('65e768c1da652931e0e91105')}\n",
      "{'Insurer': 'Patria S.A. De Seguros Y Reaseguros', 'Total de Activos': 5907591487366, 'Total de Pasivos': 3458736792972, 'Capital Social': 1444211080763, 'Resultado del Ejercicio': 244190177799, 'Total Patrimonio Neto': 2448854694394, 'Primas Directas': 2218164421033.0, 'Primas Reaseguros Aceptados - Local': 15565099667, 'Siniestros Seguros Directos': 778719598639, 'Resultado Técnico Bruto [7]=[3]-[6]': 963020974727, 'Gastos De Producción': 431669724235, 'Gastos De Cesión Reaseguros - Local': 258969296, 'Gastos De Cesión Reaseguros - Exterior': 49104781164, 'Gastos Técnicos De Explotación': 546964481753, 'Constitución De Previsiones': 51882958558, 'Resultado Técnico Neto [11]=[7]+[10]': 125331048705, 'Resultado Total del Ejercicio': 244190177799, '_id': ObjectId('65e768c3da652931e0e91107')}\n",
      "{'Insurer': 'Alianza Garantía Seguros Y Reaseguros S.A.', 'Total de Activos': 5907591487366, 'Total de Pasivos': 3458736792972, 'Capital Social': 1444211080763, 'Resultado del Ejercicio': 244190177799, 'Total Patrimonio Neto': 2448854694394, 'Primas Directas': 2218164421033.0, 'Primas Reaseguros Aceptados - Local': 15565099667, 'Siniestros Seguros Directos': 778719598639, 'Resultado Técnico Bruto [7]=[3]-[6]': 963020974727, 'Gastos De Producción': 431669724235, 'Gastos De Cesión Reaseguros - Local': 258969296, 'Gastos De Cesión Reaseguros - Exterior': 49104781164, 'Gastos Técnicos De Explotación': 546964481753, 'Constitución De Previsiones': 51882958558, 'Resultado Técnico Neto [11]=[7]+[10]': 125331048705, 'Resultado Total del Ejercicio': 244190177799, '_id': ObjectId('65e768c5da652931e0e91109')}\n",
      "{'Insurer': 'Aseguradora Paraguaya S.A', 'Total de Activos': 5907591487366, 'Total de Pasivos': 3458736792972, 'Capital Social': 1444211080763, 'Resultado del Ejercicio': 244190177799, 'Total Patrimonio Neto': 2448854694394, 'Primas Directas': 2218164421033.0, 'Primas Reaseguros Aceptados - Local': 15565099667, 'Siniestros Seguros Directos': 778719598639, 'Resultado Técnico Bruto [7]=[3]-[6]': 963020974727, 'Gastos De Producción': 431669724235, 'Gastos De Cesión Reaseguros - Local': 258969296, 'Gastos De Cesión Reaseguros - Exterior': 49104781164, 'Gastos Técnicos De Explotación': 546964481753, 'Constitución De Previsiones': 51882958558, 'Resultado Técnico Neto [11]=[7]+[10]': 125331048705, 'Resultado Total del Ejercicio': 244190177799, '_id': ObjectId('65e768c7da652931e0e9110b')}\n",
      "{'Insurer': 'Fénix S.A. De Seguros Y Reaseguros', 'Total de Activos': 5907591487366, 'Total de Pasivos': 3458736792972, 'Capital Social': 1444211080763, 'Resultado del Ejercicio': 244190177799, 'Total Patrimonio Neto': 2448854694394, 'Primas Directas': 2218164421033.0, 'Primas Reaseguros Aceptados - Local': 15565099667, 'Siniestros Seguros Directos': 778719598639, 'Resultado Técnico Bruto [7]=[3]-[6]': 963020974727, 'Gastos De Producción': 431669724235, 'Gastos De Cesión Reaseguros - Local': 258969296, 'Gastos De Cesión Reaseguros - Exterior': 49104781164, 'Gastos Técnicos De Explotación': 546964481753, 'Constitución De Previsiones': 51882958558, 'Resultado Técnico Neto [11]=[7]+[10]': 125331048705, 'Resultado Total del Ejercicio': 244190177799, '_id': ObjectId('65e768c9da652931e0e9110d')}\n",
      "{'Insurer': 'Central S.A. De Seguros', 'Total de Activos': 5907591487366, 'Total de Pasivos': 3458736792972, 'Capital Social': 1444211080763, 'Resultado del Ejercicio': 244190177799, 'Total Patrimonio Neto': 2448854694394, 'Primas Directas': 2218164421033.0, 'Primas Reaseguros Aceptados - Local': 15565099667, 'Siniestros Seguros Directos': 778719598639, 'Resultado Técnico Bruto [7]=[3]-[6]': 963020974727, 'Gastos De Producción': 431669724235, 'Gastos De Cesión Reaseguros - Local': 258969296, 'Gastos De Cesión Reaseguros - Exterior': 49104781164, 'Gastos Técnicos De Explotación': 546964481753, 'Constitución De Previsiones': 51882958558, 'Resultado Técnico Neto [11]=[7]+[10]': 125331048705, 'Resultado Total del Ejercicio': 244190177799, '_id': ObjectId('65e768cbda652931e0e9110f')}\n",
      "{'Insurer': 'Seguros Chaco S.A. De Seguros Y Reaseguros', 'Total de Activos': 5907591487366, 'Total de Pasivos': 3458736792972, 'Capital Social': 1444211080763, 'Resultado del Ejercicio': 244190177799, 'Total Patrimonio Neto': 2448854694394, 'Primas Directas': 2218164421033.0, 'Primas Reaseguros Aceptados - Local': 15565099667, 'Siniestros Seguros Directos': 778719598639, 'Resultado Técnico Bruto [7]=[3]-[6]': 963020974727, 'Gastos De Producción': 431669724235, 'Gastos De Cesión Reaseguros - Local': 258969296, 'Gastos De Cesión Reaseguros - Exterior': 49104781164, 'Gastos Técnicos De Explotación': 546964481753, 'Constitución De Previsiones': 51882958558, 'Resultado Técnico Neto [11]=[7]+[10]': 125331048705, 'Resultado Total del Ejercicio': 244190177799, '_id': ObjectId('65e768cdda652931e0e91111')}\n",
      "{'Insurer': 'El Sol Del Paraguay Compañía De Seguros Y Reaseguros', 'Total de Activos': 5907591487366, 'Total de Pasivos': 3458736792972, 'Capital Social': 1444211080763, 'Resultado del Ejercicio': 244190177799, 'Total Patrimonio Neto': 2448854694394, 'Primas Directas': 2218164421033.0, 'Primas Reaseguros Aceptados - Local': 15565099667, 'Siniestros Seguros Directos': 778719598639, 'Resultado Técnico Bruto [7]=[3]-[6]': 963020974727, 'Gastos De Producción': 431669724235, 'Gastos De Cesión Reaseguros - Local': 258969296, 'Gastos De Cesión Reaseguros - Exterior': 49104781164, 'Gastos Técnicos De Explotación': 546964481753, 'Constitución De Previsiones': 51882958558, 'Resultado Técnico Neto [11]=[7]+[10]': 125331048705, 'Resultado Total del Ejercicio': 244190177799, '_id': ObjectId('65e768cfda652931e0e91113')}\n",
      "{'Insurer': 'Intercontinental De Seguros Y Reaseguros S.A.', 'Total de Activos': 5907591487366, 'Total de Pasivos': 3458736792972, 'Capital Social': 1444211080763, 'Resultado del Ejercicio': 244190177799, 'Total Patrimonio Neto': 2448854694394, 'Primas Directas': 2218164421033.0, 'Primas Reaseguros Aceptados - Local': 15565099667, 'Siniestros Seguros Directos': 778719598639, 'Resultado Técnico Bruto [7]=[3]-[6]': 963020974727, 'Gastos De Producción': 431669724235, 'Gastos De Cesión Reaseguros - Local': 258969296, 'Gastos De Cesión Reaseguros - Exterior': 49104781164, 'Gastos Técnicos De Explotación': 546964481753, 'Constitución De Previsiones': 51882958558, 'Resultado Técnico Neto [11]=[7]+[10]': 125331048705, 'Resultado Total del Ejercicio': 244190177799, '_id': ObjectId('65e768d1da652931e0e91115')}\n",
      "{'Insurer': 'Seguridad S.A. Compañía De Seguros', 'Total de Activos': 5907591487366, 'Total de Pasivos': 3458736792972, 'Capital Social': 1444211080763, 'Resultado del Ejercicio': 244190177799, 'Total Patrimonio Neto': 2448854694394, 'Primas Directas': 2218164421033.0, 'Primas Reaseguros Aceptados - Local': 15565099667, 'Siniestros Seguros Directos': 778719598639, 'Resultado Técnico Bruto [7]=[3]-[6]': 963020974727, 'Gastos De Producción': 431669724235, 'Gastos De Cesión Reaseguros - Local': 258969296, 'Gastos De Cesión Reaseguros - Exterior': 49104781164, 'Gastos Técnicos De Explotación': 546964481753, 'Constitución De Previsiones': 51882958558, 'Resultado Técnico Neto [11]=[7]+[10]': 125331048705, 'Resultado Total del Ejercicio': 244190177799, '_id': ObjectId('65e768d3da652931e0e91117')}\n",
      "{'Insurer': 'Aseguradora Yacyreta S.A. De Seguros Y Reaseguros', 'Total de Activos': 5907591487366, 'Total de Pasivos': 3458736792972, 'Capital Social': 1444211080763, 'Resultado del Ejercicio': 244190177799, 'Total Patrimonio Neto': 2448854694394, 'Primas Directas': 2218164421033.0, 'Primas Reaseguros Aceptados - Local': 15565099667, 'Siniestros Seguros Directos': 778719598639, 'Resultado Técnico Bruto [7]=[3]-[6]': 963020974727, 'Gastos De Producción': 431669724235, 'Gastos De Cesión Reaseguros - Local': 258969296, 'Gastos De Cesión Reaseguros - Exterior': 49104781164, 'Gastos Técnicos De Explotación': 546964481753, 'Constitución De Previsiones': 51882958558, 'Resultado Técnico Neto [11]=[7]+[10]': 125331048705, 'Resultado Total del Ejercicio': 244190177799, '_id': ObjectId('65e768d5da652931e0e91119')}\n",
      "{'Insurer': 'La Agrícola S.A. De Seguros Y Reaseguros', 'Total de Activos': 5907591487366, 'Total de Pasivos': 3458736792972, 'Capital Social': 1444211080763, 'Resultado del Ejercicio': 244190177799, 'Total Patrimonio Neto': 2448854694394, 'Primas Directas': 2218164421033.0, 'Primas Reaseguros Aceptados - Local': 15565099667, 'Siniestros Seguros Directos': 778719598639, 'Resultado Técnico Bruto [7]=[3]-[6]': 963020974727, 'Gastos De Producción': 431669724235, 'Gastos De Cesión Reaseguros - Local': 258969296, 'Gastos De Cesión Reaseguros - Exterior': 49104781164, 'Gastos Técnicos De Explotación': 546964481753, 'Constitución De Previsiones': 51882958558, 'Resultado Técnico Neto [11]=[7]+[10]': 125331048705, 'Resultado Total del Ejercicio': 244190177799, '_id': ObjectId('65e768d7da652931e0e9111b')}\n",
      "{'Insurer': 'Ueno Seguros S.A.', 'Total de Activos': 5907591487366, 'Total de Pasivos': 3458736792972, 'Capital Social': 1444211080763, 'Resultado del Ejercicio': 244190177799, 'Total Patrimonio Neto': 2448854694394, 'Primas Directas': 2218164421033.0, 'Primas Reaseguros Aceptados - Local': 15565099667, 'Siniestros Seguros Directos': 778719598639, 'Resultado Técnico Bruto [7]=[3]-[6]': 963020974727, 'Gastos De Producción': 431669724235, 'Gastos De Cesión Reaseguros - Local': 258969296, 'Gastos De Cesión Reaseguros - Exterior': 49104781164, 'Gastos Técnicos De Explotación': 546964481753, 'Constitución De Previsiones': 51882958558, 'Resultado Técnico Neto [11]=[7]+[10]': 125331048705, 'Resultado Total del Ejercicio': 244190177799, '_id': ObjectId('65e768dada652931e0e9111d')}\n",
      "{'Insurer': 'Cenit De Seguros S.A.', 'Total de Activos': 5907591487366, 'Total de Pasivos': 3458736792972, 'Capital Social': 1444211080763, 'Resultado del Ejercicio': 244190177799, 'Total Patrimonio Neto': 2448854694394, 'Primas Directas': 2218164421033.0, 'Primas Reaseguros Aceptados - Local': 15565099667, 'Siniestros Seguros Directos': 778719598639, 'Resultado Técnico Bruto [7]=[3]-[6]': 963020974727, 'Gastos De Producción': 431669724235, 'Gastos De Cesión Reaseguros - Local': 258969296, 'Gastos De Cesión Reaseguros - Exterior': 49104781164, 'Gastos Técnicos De Explotación': 546964481753, 'Constitución De Previsiones': 51882958558, 'Resultado Técnico Neto [11]=[7]+[10]': 125331048705, 'Resultado Total del Ejercicio': 244190177799, '_id': ObjectId('65e768dcda652931e0e9111f')}\n",
      "{'Insurer': 'La Meridional Paraguaya S.A. De Seguros', 'Total de Activos': 5907591487366, 'Total de Pasivos': 3458736792972, 'Capital Social': 1444211080763, 'Resultado del Ejercicio': 244190177799, 'Total Patrimonio Neto': 2448854694394, 'Primas Directas': 2218164421033.0, 'Primas Reaseguros Aceptados - Local': 15565099667, 'Siniestros Seguros Directos': 778719598639, 'Resultado Técnico Bruto [7]=[3]-[6]': 963020974727, 'Gastos De Producción': 431669724235, 'Gastos De Cesión Reaseguros - Local': 258969296, 'Gastos De Cesión Reaseguros - Exterior': 49104781164, 'Gastos Técnicos De Explotación': 546964481753, 'Constitución De Previsiones': 51882958558, 'Resultado Técnico Neto [11]=[7]+[10]': 125331048705, 'Resultado Total del Ejercicio': 244190177799, '_id': ObjectId('65e768deda652931e0e91121')}\n",
      "{'Insurer': 'Aseguradora Del Este S.A De Seguros Y Reaseguros', 'Total de Activos': 5907591487366, 'Total de Pasivos': 3458736792972, 'Capital Social': 1444211080763, 'Resultado del Ejercicio': 244190177799, 'Total Patrimonio Neto': 2448854694394, 'Primas Directas': 2218164421033.0, 'Primas Reaseguros Aceptados - Local': 15565099667, 'Siniestros Seguros Directos': 778719598639, 'Resultado Técnico Bruto [7]=[3]-[6]': 963020974727, 'Gastos De Producción': 431669724235, 'Gastos De Cesión Reaseguros - Local': 258969296, 'Gastos De Cesión Reaseguros - Exterior': 49104781164, 'Gastos Técnicos De Explotación': 546964481753, 'Constitución De Previsiones': 51882958558, 'Resultado Técnico Neto [11]=[7]+[10]': 125331048705, 'Resultado Total del Ejercicio': 244190177799, '_id': ObjectId('65e768e0da652931e0e91123')}\n",
      "{'Insurer': 'Regional S.A. De Seguros Y Reaseguros', 'Total de Activos': 5907591487366, 'Total de Pasivos': 3458736792972, 'Capital Social': 1444211080763, 'Resultado del Ejercicio': 244190177799, 'Total Patrimonio Neto': 2448854694394, 'Primas Directas': 2218164421033.0, 'Primas Reaseguros Aceptados - Local': 15565099667, 'Siniestros Seguros Directos': 778719598639, 'Resultado Técnico Bruto [7]=[3]-[6]': 963020974727, 'Gastos De Producción': 431669724235, 'Gastos De Cesión Reaseguros - Local': 258969296, 'Gastos De Cesión Reaseguros - Exterior': 49104781164, 'Gastos Técnicos De Explotación': 546964481753, 'Constitución De Previsiones': 51882958558, 'Resultado Técnico Neto [11]=[7]+[10]': 125331048705, 'Resultado Total del Ejercicio': 244190177799, '_id': ObjectId('65e768e2da652931e0e91125')}\n",
      "{'Insurer': 'Mapfre Paraguay Compañía De Seguros S.A.', 'Total de Activos': 5907591487366, 'Total de Pasivos': 3458736792972, 'Capital Social': 1444211080763, 'Resultado del Ejercicio': 244190177799, 'Total Patrimonio Neto': 2448854694394, 'Primas Directas': 2218164421033.0, 'Primas Reaseguros Aceptados - Local': 15565099667, 'Siniestros Seguros Directos': 778719598639, 'Resultado Técnico Bruto [7]=[3]-[6]': 963020974727, 'Gastos De Producción': 431669724235, 'Gastos De Cesión Reaseguros - Local': 258969296, 'Gastos De Cesión Reaseguros - Exterior': 49104781164, 'Gastos Técnicos De Explotación': 546964481753, 'Constitución De Previsiones': 51882958558, 'Resultado Técnico Neto [11]=[7]+[10]': 125331048705, 'Resultado Total del Ejercicio': 244190177799, '_id': ObjectId('65e768e4da652931e0e91127')}\n",
      "{'Insurer': 'Aseguradora Tajy Propiedad Cooperativa S.A. De Seguros', 'Total de Activos': 5907591487366, 'Total de Pasivos': 3458736792972, 'Capital Social': 1444211080763, 'Resultado del Ejercicio': 244190177799, 'Total Patrimonio Neto': 2448854694394, 'Primas Directas': 2218164421033.0, 'Primas Reaseguros Aceptados - Local': 15565099667, 'Siniestros Seguros Directos': 778719598639, 'Resultado Técnico Bruto [7]=[3]-[6]': 963020974727, 'Gastos De Producción': 431669724235, 'Gastos De Cesión Reaseguros - Local': 258969296, 'Gastos De Cesión Reaseguros - Exterior': 49104781164, 'Gastos Técnicos De Explotación': 546964481753, 'Constitución De Previsiones': 51882958558, 'Resultado Técnico Neto [11]=[7]+[10]': 125331048705, 'Resultado Total del Ejercicio': 244190177799, '_id': ObjectId('65e768e6da652931e0e91129')}\n",
      "{'Insurer': 'Panal Compañía De Seguros Generales S.A.', 'Total de Activos': 5907591487366, 'Total de Pasivos': 3458736792972, 'Capital Social': 1444211080763, 'Resultado del Ejercicio': 244190177799, 'Total Patrimonio Neto': 2448854694394, 'Primas Directas': 2218164421033.0, 'Primas Reaseguros Aceptados - Local': 15565099667, 'Siniestros Seguros Directos': 778719598639, 'Resultado Técnico Bruto [7]=[3]-[6]': 963020974727, 'Gastos De Producción': 431669724235, 'Gastos De Cesión Reaseguros - Local': 258969296, 'Gastos De Cesión Reaseguros - Exterior': 49104781164, 'Gastos Técnicos De Explotación': 546964481753, 'Constitución De Previsiones': 51882958558, 'Resultado Técnico Neto [11]=[7]+[10]': 125331048705, 'Resultado Total del Ejercicio': 244190177799, '_id': ObjectId('65e768e8da652931e0e9112b')}\n",
      "{'Insurer': 'Sancor Seguros Del Paraguay S.A.', 'Total de Activos': 5907591487366, 'Total de Pasivos': 3458736792972, 'Capital Social': 1444211080763, 'Resultado del Ejercicio': 244190177799, 'Total Patrimonio Neto': 2448854694394, 'Primas Directas': 2218164421033.0, 'Primas Reaseguros Aceptados - Local': 15565099667, 'Siniestros Seguros Directos': 778719598639, 'Resultado Técnico Bruto [7]=[3]-[6]': 963020974727, 'Gastos De Producción': 431669724235, 'Gastos De Cesión Reaseguros - Local': 258969296, 'Gastos De Cesión Reaseguros - Exterior': 49104781164, 'Gastos Técnicos De Explotación': 546964481753, 'Constitución De Previsiones': 51882958558, 'Resultado Técnico Neto [11]=[7]+[10]': 125331048705, 'Resultado Total del Ejercicio': 244190177799, '_id': ObjectId('65e768eada652931e0e9112d')}\n",
      "{'Insurer': 'Royal Seguros S.A. Compañía De Seguros', 'Total de Activos': 5907591487366, 'Total de Pasivos': 3458736792972, 'Capital Social': 1444211080763, 'Resultado del Ejercicio': 244190177799, 'Total Patrimonio Neto': 2448854694394, 'Primas Directas': 2218164421033.0, 'Primas Reaseguros Aceptados - Local': 15565099667, 'Siniestros Seguros Directos': 778719598639, 'Resultado Técnico Bruto [7]=[3]-[6]': 963020974727, 'Gastos De Producción': 431669724235, 'Gastos De Cesión Reaseguros - Local': 258969296, 'Gastos De Cesión Reaseguros - Exterior': 49104781164, 'Gastos Técnicos De Explotación': 546964481753, 'Constitución De Previsiones': 51882958558, 'Resultado Técnico Neto [11]=[7]+[10]': 125331048705, 'Resultado Total del Ejercicio': 244190177799, '_id': ObjectId('65e768ecda652931e0e9112f')}\n",
      "{'Insurer': 'Nobleza Seguros S.A. Compañia De Seguros', 'Total de Activos': 5907591487366, 'Total de Pasivos': 3458736792972, 'Capital Social': 1444211080763, 'Resultado del Ejercicio': 244190177799, 'Total Patrimonio Neto': 2448854694394, 'Primas Directas': 2218164421033.0, 'Primas Reaseguros Aceptados - Local': 15565099667, 'Siniestros Seguros Directos': 778719598639, 'Resultado Técnico Bruto [7]=[3]-[6]': 963020974727, 'Gastos De Producción': 431669724235, 'Gastos De Cesión Reaseguros - Local': 258969296, 'Gastos De Cesión Reaseguros - Exterior': 49104781164, 'Gastos Técnicos De Explotación': 546964481753, 'Constitución De Previsiones': 51882958558, 'Resultado Técnico Neto [11]=[7]+[10]': 125331048705, 'Resultado Total del Ejercicio': 244190177799, '_id': ObjectId('65e768eeda652931e0e91131')}\n",
      "{'Insurer': 'Itau Seguros Paraguay S.A.', 'Total de Activos': 5907591487366, 'Total de Pasivos': 3458736792972, 'Capital Social': 1444211080763, 'Resultado del Ejercicio': 244190177799, 'Total Patrimonio Neto': 2448854694394, 'Primas Directas': 2218164421033.0, 'Primas Reaseguros Aceptados - Local': 15565099667, 'Siniestros Seguros Directos': 778719598639, 'Resultado Técnico Bruto [7]=[3]-[6]': 963020974727, 'Gastos De Producción': 431669724235, 'Gastos De Cesión Reaseguros - Local': 258969296, 'Gastos De Cesión Reaseguros - Exterior': 49104781164, 'Gastos Técnicos De Explotación': 546964481753, 'Constitución De Previsiones': 51882958558, 'Resultado Técnico Neto [11]=[7]+[10]': 125331048705, 'Resultado Total del Ejercicio': 244190177799, '_id': ObjectId('65e768efda652931e0e91133')}\n",
      "{'Insurer': 'Familiar Seguros S.A.', 'Total de Activos': 5907591487366, 'Total de Pasivos': 3458736792972, 'Capital Social': 1444211080763, 'Resultado del Ejercicio': 244190177799, 'Total Patrimonio Neto': 2448854694394, 'Primas Directas': 2218164421033.0, 'Primas Reaseguros Aceptados - Local': 15565099667, 'Siniestros Seguros Directos': 778719598639, 'Resultado Técnico Bruto [7]=[3]-[6]': 963020974727, 'Gastos De Producción': 431669724235, 'Gastos De Cesión Reaseguros - Local': 258969296, 'Gastos De Cesión Reaseguros - Exterior': 49104781164, 'Gastos Técnicos De Explotación': 546964481753, 'Constitución De Previsiones': 51882958558, 'Resultado Técnico Neto [11]=[7]+[10]': 125331048705, 'Resultado Total del Ejercicio': 244190177799, '_id': ObjectId('65e768f1da652931e0e91135')}\n",
      "{'Insurer': 'Atlas S.A. De Seguros', 'Total de Activos': 5907591487366, 'Total de Pasivos': 3458736792972, 'Capital Social': 1444211080763, 'Resultado del Ejercicio': 244190177799, 'Total Patrimonio Neto': 2448854694394, 'Primas Directas': 2218164421033.0, 'Primas Reaseguros Aceptados - Local': 15565099667, 'Siniestros Seguros Directos': 778719598639, 'Resultado Técnico Bruto [7]=[3]-[6]': 963020974727, 'Gastos De Producción': 431669724235, 'Gastos De Cesión Reaseguros - Local': 258969296, 'Gastos De Cesión Reaseguros - Exterior': 49104781164, 'Gastos Técnicos De Explotación': 546964481753, 'Constitución De Previsiones': 51882958558, 'Resultado Técnico Neto [11]=[7]+[10]': 125331048705, 'Resultado Total del Ejercicio': 244190177799, '_id': ObjectId('65e768f3da652931e0e91137')}\n",
      "{'Insurer': 'Total Mercado', 'Total de Activos': 5907591487366, 'Total de Pasivos': 3458736792972, 'Capital Social': 1444211080763, 'Resultado del Ejercicio': 244190177799, 'Total Patrimonio Neto': 2448854694394, 'Primas Directas': 2218164421033.0, 'Primas Reaseguros Aceptados - Local': 15565099667, 'Siniestros Seguros Directos': 778719598639, 'Resultado Técnico Bruto [7]=[3]-[6]': 963020974727, 'Gastos De Producción': 431669724235, 'Gastos De Cesión Reaseguros - Local': 258969296, 'Gastos De Cesión Reaseguros - Exterior': 49104781164, 'Gastos Técnicos De Explotación': 546964481753, 'Constitución De Previsiones': 51882958558, 'Resultado Técnico Neto [11]=[7]+[10]': 125331048705, 'Resultado Total del Ejercicio': 244190177799, '_id': ObjectId('65e768f6da652931e0e91139')}\n"
     ]
    }
   ],
   "source": [
    "for insurer in columns:\n",
    "    container = create_new_dfs(dataframes, insurer, rows, columns)\n",
    "    new_dict = create_dict_from_df2(container)\n",
    "    insert_data(new_dict, \"insurance_companies\")\n",
    "    print(new_dict)\n",
    "    "
   ]
  }
 ],
 "metadata": {
  "kernelspec": {
   "display_name": "venv",
   "language": "python",
   "name": "python3"
  },
  "language_info": {
   "codemirror_mode": {
    "name": "ipython",
    "version": 3
   },
   "file_extension": ".py",
   "mimetype": "text/x-python",
   "name": "python",
   "nbconvert_exporter": "python",
   "pygments_lexer": "ipython3",
   "version": "3.11.3"
  }
 },
 "nbformat": 4,
 "nbformat_minor": 2
}
